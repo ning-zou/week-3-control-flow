{
 "cells": [
  {
   "cell_type": "markdown",
   "metadata": {},
   "source": [
    "## Week 3 Exercises"
   ]
  },
  {
   "cell_type": "markdown",
   "metadata": {},
   "source": [
    "You have six exercises this week covering different elements of the lecture and readings.\n",
    "\n",
    "1. Operators\n",
    "2. Boolean expression\n",
    "3. Conditional statements\n",
    "4. Exceptions\n",
    "5. Functions"
   ]
  },
  {
   "cell_type": "markdown",
   "metadata": {},
   "source": [
    "### Operators"
   ]
  },
  {
   "cell_type": "markdown",
   "metadata": {},
   "source": [
    "**Q1**: Use Pythagoras theorem to calculate the length of the hypotenuse of a right-angled triangle where the other sides have lengths 3 and 4.\n",
    "\n",
    "* Create variables called \"b\" and \"c\" and assign them the values of the sides with known lengths. \n",
    "* Assign values to the created variables.\n",
    "* Write a mathematical express to calculate the length of the hypotenuse (REMEMBER: “a-squared equals b-squared plus c-squared\").\n",
    "* Create a variable \"a\" that equals the result of the calculation. \n",
    "* Print the value of variable \"a\".\n",
    "\n"
   ]
  },
  {
   "cell_type": "code",
   "execution_count": null,
   "metadata": {},
   "outputs": [],
   "source": []
  },
  {
   "cell_type": "markdown",
   "metadata": {},
   "source": [
    "**Q2**: Write a program to prompt the user for hours and rate per hour using input to compute gross pay. Use 35 hours and a rate of 2.75 per hour to test the program (the pay should be 96.25). You should use input to read a string and float() to convert the string to a number. "
   ]
  },
  {
   "cell_type": "code",
   "execution_count": null,
   "metadata": {},
   "outputs": [],
   "source": []
  },
  {
   "cell_type": "markdown",
   "metadata": {},
   "source": [
    "### Boolean expression & Conditional statements"
   ]
  },
  {
   "cell_type": "markdown",
   "metadata": {},
   "source": [
    "**Q3**: Considering the following program:"
   ]
  },
  {
   "cell_type": "code",
   "execution_count": null,
   "metadata": {},
   "outputs": [],
   "source": [
    "x = 30\n",
    "if x < 30 :\n",
    "        x = 20\n",
    "        x += 5\n",
    "print (x)"
   ]
  },
  {
   "cell_type": "markdown",
   "metadata": {},
   "source": [
    "**3.1** What is the result of the following program?  \n",
    "* Please describe how do you get the result of this program.\n"
   ]
  },
  {
   "cell_type": "code",
   "execution_count": null,
   "metadata": {},
   "outputs": [],
   "source": []
  },
  {
   "cell_type": "markdown",
   "metadata": {},
   "source": [
    "**3.2** Is it possible to get the result 35 by changing the indentation of a single line?\n",
    "* Please provide your code to justify your answer."
   ]
  },
  {
   "cell_type": "code",
   "execution_count": null,
   "metadata": {},
   "outputs": [],
   "source": []
  },
  {
   "cell_type": "markdown",
   "metadata": {},
   "source": [
    "**Q4**: Using the Q3 3.1 result (x value) to do Q4. By means of conditional execution to implement:\n",
    "1. if the remainder when x is divided by 2 is 0, then print \"x is even\"\n",
    "2. if the condition is false, then print \"x is odd\""
   ]
  },
  {
   "cell_type": "code",
   "execution_count": null,
   "metadata": {},
   "outputs": [],
   "source": []
  },
  {
   "cell_type": "markdown",
   "metadata": {},
   "source": [
    "### Exceptions"
   ]
  },
  {
   "cell_type": "markdown",
   "metadata": {},
   "source": [
    "**Q5:** Converting the value pounds (lb) to kilogram. 1kg = 2.2lb\n",
    "* You should use input to read a string and float() to convert the string to a number\n",
    "* You can use \"x\" as the value of pound, and \"y\" as the value of kilogram.\n",
    "* You should catch exceptions using try and except"
   ]
  },
  {
   "cell_type": "code",
   "execution_count": null,
   "metadata": {},
   "outputs": [],
   "source": []
  },
  {
   "cell_type": "markdown",
   "metadata": {},
   "source": [
    "### Functions"
   ]
  },
  {
   "cell_type": "markdown",
   "metadata": {},
   "source": [
    "***Q6:*** Computing the value of area of the cirle - S, and diameter of the S is 8. \n",
    "* Use the function math.pi"
   ]
  },
  {
   "cell_type": "code",
   "execution_count": null,
   "metadata": {},
   "outputs": [],
   "source": []
  }
 ],
 "metadata": {
  "kernelspec": {
   "display_name": "Python 3",
   "language": "python",
   "name": "python3"
  },
  "language_info": {
   "codemirror_mode": {
    "name": "ipython",
    "version": 3
   },
   "file_extension": ".py",
   "mimetype": "text/x-python",
   "name": "python",
   "nbconvert_exporter": "python",
   "pygments_lexer": "ipython3",
   "version": "3.8.3"
  }
 },
 "nbformat": 4,
 "nbformat_minor": 4
}
